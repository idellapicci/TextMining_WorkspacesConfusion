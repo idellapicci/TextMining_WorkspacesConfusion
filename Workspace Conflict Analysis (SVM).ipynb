{
 "cells": [
  {
   "cell_type": "markdown",
   "metadata": {},
   "source": [
    "# TEXT MINING - WORKSPACE CONFUSION ANALYSIS\n",
    "\n",
    "* Script developed using: R version 3.4.0 (2017-04-21)\n",
    "\n",
    "* Platform: x86_64-w64-mingw32/x64 (64-bit)\n",
    "\n",
    "* IBM - May 2018 (isabelad@br.ibm.com)\n",
    "\n",
    "This notebook uses SVM classification and word cloud to support workspaces confusion analysis of sample questions to be used to create intentions for Watson Assistant (formely Watson Conversation). It gives a hint of subjects in different workspaces that can generate confusion when it comes to the router workspace classification."
   ]
  },
  {
   "cell_type": "code",
   "execution_count": 53,
   "metadata": {
    "scrolled": true
   },
   "outputs": [
    {
     "name": "stderr",
     "output_type": "stream",
     "text": [
      "Warning message:\n",
      "\"package 'e1071' was built under R version 3.4.4\""
     ]
    }
   ],
   "source": [
    "#Libraries\n",
    "\n",
    "library('dplyr') #data manipulation (filter, group, sort)\n",
    "library('tidyr') #data tidying\n",
    "library('ggplot2') #creating graphics\n",
    "library('tm') #text mining\n",
    "library('textstem') #stem and lemmatize text\n",
    "library('ptstem') #stemming algorithms for the Portuguese Language\n",
    "library('SnowballC') #text stemming\n",
    "library('stringr') #string manipulation\n",
    "library('wordcloud') # word-cloud generator\n",
    "library('RColorBrewer') #color palettes\n",
    "library('e1071') #support vector machine classification"
   ]
  },
  {
   "cell_type": "code",
   "execution_count": 22,
   "metadata": {
    "collapsed": true
   },
   "outputs": [],
   "source": [
    "#Parameters\n",
    "\n",
    "dir_file <- 'C:/Users/IsabelaDellaliberaPi/Box Sync/Backup Isa/CBDS/SANTANDER/Sara 2.0/Base Conhecimento/Cluster Workspaces/Workspaces'\n",
    "base_file <- 'Teste_Clusterizacao_v5.csv'\n",
    "token_file <- 'token.txt'\n",
    "final_file <- 'cluster_workspaces_v5.csv'\n",
    "model_file <- 'model_workspace.rda'\n",
    "ngram <- 1\n",
    "sparsity <- 0.995"
   ]
  },
  {
   "cell_type": "markdown",
   "metadata": {},
   "source": [
    "## SECTION 1: Load and clean data"
   ]
  },
  {
   "cell_type": "code",
   "execution_count": 62,
   "metadata": {
    "scrolled": true
   },
   "outputs": [
    {
     "data": {
      "text/html": [
       "<table>\n",
       "<thead><tr><th scope=col>Canonica</th><th scope=col>Intencao</th><th scope=col>GRUPO</th><th scope=col>ID</th></tr></thead>\n",
       "<tbody>\n",
       "\t<tr><td>Como consultar os  valores atualizados de uma Tarifa?                                                 </td><td>Tarifa_PFePJ_Consultar_Valor_TarifaAtualizada                                                         </td><td>Tar                                                                                                   </td><td>1                                                                                                     </td></tr>\n",
       "\t<tr><td>Como cadastrar isenção de tarifa para Pessoa Jurídica?                                                </td><td>Tarifa_PacoteServico_PJ_Cadastrar_Isencao                                                             </td><td>Tar                                                                                                   </td><td>2                                                                                                     </td></tr>\n",
       "\t<tr><td>Quais são os Pacotes de Serviços para Conta Corrente?                                                 </td><td>Tarifa_PacoteServico_PFePJ_Saber_PacoteServico_Segmentos                                              </td><td>Tar                                                                                                   </td><td>3                                                                                                     </td></tr>\n",
       "\t<tr><td>Como consultar o valor da tarifa de Adiantamento a Depositante no TFC?                                </td><td>Tarifa_Manutencao_PFePJ_Consultar_Valor_AdiantamentoDepositante                                       </td><td>Tar                                                                                                   </td><td>4                                                                                                     </td></tr>\n",
       "\t<tr><td>Qual o período para manter cópia dos documentos durante o processo em caso de cédulas suspeitas?      </td><td>ContaCorrente_Movimentacao_PFePJ_Saber_Prazo_ManterDocumento_CedulaAutenticidadeDuvidosa_RecebidaCaixa</td><td>CC                                                                                                    </td><td>5                                                                                                     </td></tr>\n",
       "</tbody>\n",
       "</table>\n"
      ],
      "text/latex": [
       "\\begin{tabular}{r|llll}\n",
       " Canonica & Intencao & GRUPO & ID\\\\\n",
       "\\hline\n",
       "\t Como consultar os  valores atualizados de uma Tarifa?                                                          & Tarifa\\_PFePJ\\_Consultar\\_Valor\\_TarifaAtualizada                                                          & Tar                                                                                                            & 1                                                                                                             \\\\\n",
       "\t Como cadastrar isenção de tarifa para Pessoa Jurídica?                                                         & Tarifa\\_PacoteServico\\_PJ\\_Cadastrar\\_Isencao                                                              & Tar                                                                                                            & 2                                                                                                             \\\\\n",
       "\t Quais são os Pacotes de Serviços para Conta Corrente?                                                            & Tarifa\\_PacoteServico\\_PFePJ\\_Saber\\_PacoteServico\\_Segmentos                                               & Tar                                                                                                              & 3                                                                                                               \\\\\n",
       "\t Como consultar o valor da tarifa de Adiantamento a Depositante no TFC?                                           & Tarifa\\_Manutencao\\_PFePJ\\_Consultar\\_Valor\\_AdiantamentoDepositante                                        & Tar                                                                                                              & 4                                                                                                               \\\\\n",
       "\t Qual o período para manter cópia dos documentos durante o processo em caso de cédulas suspeitas?                     & ContaCorrente\\_Movimentacao\\_PFePJ\\_Saber\\_Prazo\\_ManterDocumento\\_CedulaAutenticidadeDuvidosa\\_RecebidaCaixa & CC                                                                                                                   & 5                                                                                                                   \\\\\n",
       "\\end{tabular}\n"
      ],
      "text/markdown": [
       "\n",
       "Canonica | Intencao | GRUPO | ID | \n",
       "|---|---|---|---|---|\n",
       "| Como consultar os  valores atualizados de uma Tarifa?                                                  | Tarifa_PFePJ_Consultar_Valor_TarifaAtualizada                                                          | Tar                                                                                                    | 1                                                                                                      | \n",
       "| Como cadastrar isenção de tarifa para Pessoa Jurídica?                                                 | Tarifa_PacoteServico_PJ_Cadastrar_Isencao                                                              | Tar                                                                                                    | 2                                                                                                      | \n",
       "| Quais são os Pacotes de Serviços para Conta Corrente?                                                  | Tarifa_PacoteServico_PFePJ_Saber_PacoteServico_Segmentos                                               | Tar                                                                                                    | 3                                                                                                      | \n",
       "| Como consultar o valor da tarifa de Adiantamento a Depositante no TFC?                                 | Tarifa_Manutencao_PFePJ_Consultar_Valor_AdiantamentoDepositante                                        | Tar                                                                                                    | 4                                                                                                      | \n",
       "| Qual o período para manter cópia dos documentos durante o processo em caso de cédulas suspeitas?       | ContaCorrente_Movimentacao_PFePJ_Saber_Prazo_ManterDocumento_CedulaAutenticidadeDuvidosa_RecebidaCaixa | CC                                                                                                     | 5                                                                                                      | \n",
       "\n",
       "\n"
      ],
      "text/plain": [
       "  Canonica                                                                                        \n",
       "1 Como consultar os  valores atualizados de uma Tarifa?                                           \n",
       "2 Como cadastrar isenção de tarifa para Pessoa Jurídica?                                          \n",
       "3 Quais são os Pacotes de Serviços para Conta Corrente?                                           \n",
       "4 Como consultar o valor da tarifa de Adiantamento a Depositante no TFC?                          \n",
       "5 Qual o período para manter cópia dos documentos durante o processo em caso de cédulas suspeitas?\n",
       "  Intencao                                                                                              \n",
       "1 Tarifa_PFePJ_Consultar_Valor_TarifaAtualizada                                                         \n",
       "2 Tarifa_PacoteServico_PJ_Cadastrar_Isencao                                                             \n",
       "3 Tarifa_PacoteServico_PFePJ_Saber_PacoteServico_Segmentos                                              \n",
       "4 Tarifa_Manutencao_PFePJ_Consultar_Valor_AdiantamentoDepositante                                       \n",
       "5 ContaCorrente_Movimentacao_PFePJ_Saber_Prazo_ManterDocumento_CedulaAutenticidadeDuvidosa_RecebidaCaixa\n",
       "  GRUPO ID\n",
       "1 Tar   1 \n",
       "2 Tar   2 \n",
       "3 Tar   3 \n",
       "4 Tar   4 \n",
       "5 CC    5 "
      ]
     },
     "metadata": {},
     "output_type": "display_data"
    }
   ],
   "source": [
    "setwd(dir_file)\n",
    "df <- read.csv(file = base_file, header = TRUE, sep = \";\", dec = \".\", stringsAsFactors = FALSE)\n",
    "df <- cbind(df, ID=row.names(df))\n",
    "df <- df[,-4:-5]\n",
    "head(df, 5)"
   ]
  },
  {
   "cell_type": "code",
   "execution_count": 63,
   "metadata": {
    "collapsed": true
   },
   "outputs": [],
   "source": [
    "#We are interested in the column containing the questions samples (e.j.:Canonica)\n",
    "df <- df[!duplicated(df$Canonica),]\n",
    "df_original <- df"
   ]
  },
  {
   "cell_type": "code",
   "execution_count": 64,
   "metadata": {
    "collapsed": true
   },
   "outputs": [],
   "source": [
    "#Function for text normalization\n",
    "\n",
    "normalize_str <- function(s) {\n",
    "  s <- iconv(s, to='ASCII//TRANSLIT')\n",
    "  #s <- iconv(s, 'UTF-8', 'ASCII')\n",
    "  s <- tolower(s)\n",
    "  s <- gsub('/',' ', s)\n",
    "  s<- removePunctuation(s)\n",
    "  s <- removeNumbers(s)\n",
    "    \n",
    "\n",
    "#Dictionary with some important business specific terms to replace, mainly terms with less than 2 characters\n",
    "###\n",
    "  s <- gsub(' pj ',' pessoa juridica ', s)\n",
    "  s <- gsub(' pf ',' pessoa fisica ', s)\n",
    "  s <- gsub(' cc ',' conta corrente ', s)\n",
    "  s <- gsub(' ag ',' agencia ', s)\n",
    "  s <- gsub(' caps ',' capitalizacao ', s)\n",
    "  s <- gsub(' cap ',' capitalizacao ', s)\n",
    "  s <- gsub(' ib ',' internet banking ', s)\n",
    "  s <- gsub(' ly ',' renly ', s)\n",
    "  s <- gsub(' oy ',' renoy ', s)\n",
    "  s <- gsub(' on line ',' online ', s)\n",
    "  s <- gsub(' conta poupanca ',' contapoupanca ', s)\n",
    "  s <- gsub(' conta max ',' contamax ', s)\n",
    "  s <- gsub(' fundos ',' fundo ', s)\n",
    "  s <- gsub(' di ',' cdi ', s)\n",
    "  s <- gsub(' investimentos ',' investimento ', s)\n",
    "  s <- gsub(' rendimentos ',' rendimento ', s)\n",
    "  s <- gsub(' ir ',' imposto de renda ', s)\n",
    "###  \n",
    "\n",
    "    \n",
    "  s <- chartr('ç', 'c', s)\n",
    "  s <- gsub('\\\\b\\\\w{1,2}\\\\b','', s)\n",
    "  s <- removeWords(s, stopwords('portuguese'))\n",
    "  s <- gsub('\\\\\\n','', s)\n",
    "  s <- gsub('\\\\ +',' ', s)\n",
    "}"
   ]
  },
  {
   "cell_type": "code",
   "execution_count": 65,
   "metadata": {},
   "outputs": [],
   "source": [
    "df$Canonica <- normalize_str(df$Canonica)\n",
    "corpus <- normalize_str(df$Canonica)\n",
    "corpus <- ptstem(corpus, algorithm = \"hunspell\", complete = FALSE) #Stemming Algorithm for Portuguese\n",
    "wc_corpus <- VCorpus(VectorSource(corpus), readerControl = list(language = \"pt-BR\"))"
   ]
  },
  {
   "cell_type": "markdown",
   "metadata": {},
   "source": [
    "## SECTION 2: Create Term-Document Matrix for Text Mining"
   ]
  },
  {
   "cell_type": "code",
   "execution_count": 66,
   "metadata": {},
   "outputs": [],
   "source": [
    "#Function for Tokenization\n",
    "\n",
    "NgramTokenizer <- function(x){\n",
    "  unlist(lapply(ngrams(words(x), c(1:ngram)), paste, collapse = ' '), use.names = FALSE)\n",
    "  }\n",
    "\n",
    "\n",
    "ndocs <- length(corpus)\n",
    "MinTermFreq <- ndocs * 0.01 # ignore extremely rare words i.e. terms that appear in less then 1% of the documents\n",
    "MaxTermFreq <- ndocs * .8 # ignore overly common words i.e. terms that appear in more than 80% of the documents\n",
    "\n",
    "\n",
    "#Function to create the Document Term Matrix (dtm) by term frequency (tf-idf)\n",
    "\n",
    "dtm <- TermDocumentMatrix(wc_corpus, \n",
    "                          control = list( weighting = function(x) weightTfIdf(x, normalize=FALSE),\n",
    "                                          tokenize = NgramTokenizer,\n",
    "                                          minWordLength = 2,\n",
    "                                          bounds = list(global = c(MinTermFreq, MaxTermFreq)))\n",
    ")\n",
    "                              "
   ]
  },
  {
   "cell_type": "code",
   "execution_count": 67,
   "metadata": {
    "scrolled": true
   },
   "outputs": [
    {
     "data": {
      "text/html": [
       "<table>\n",
       "<thead><tr><th></th><th scope=col>aberturar</th><th scope=col>agenciar</th><th scope=col>alterar</th><th scope=col>antecipacao</th><th scope=col>antecipar</th><th scope=col>atender</th><th scope=col>automatico</th><th scope=col>bancar</th><th scope=col>bloquear</th><th scope=col>bndes</th><th scope=col>...</th><th scope=col>tipo</th><th scope=col>tirar</th><th scope=col>titular</th><th scope=col>usar</th><th scope=col>utilizar</th><th scope=col>valor</th><th scope=col>vencer</th><th scope=col>ver</th><th scope=col>verificar</th><th scope=col>vidar</th></tr></thead>\n",
       "<tbody>\n",
       "\t<tr><th scope=row>1</th><td>0        </td><td>0        </td><td>0        </td><td>0        </td><td>0        </td><td>0        </td><td>0        </td><td>0        </td><td>0        </td><td>0        </td><td>...      </td><td>0        </td><td>0        </td><td>0        </td><td>0        </td><td>0        </td><td>0.0000000</td><td>0        </td><td>0        </td><td>0        </td><td>0        </td></tr>\n",
       "\t<tr><th scope=row>2</th><td>0        </td><td>0        </td><td>0        </td><td>0        </td><td>0        </td><td>0        </td><td>0        </td><td>0        </td><td>0        </td><td>0        </td><td>...      </td><td>0        </td><td>0        </td><td>0        </td><td>0        </td><td>0        </td><td>0.0000000</td><td>0        </td><td>0        </td><td>0        </td><td>0        </td></tr>\n",
       "\t<tr><th scope=row>3</th><td>0        </td><td>0        </td><td>0        </td><td>0        </td><td>0        </td><td>0        </td><td>0        </td><td>0        </td><td>0        </td><td>0        </td><td>...      </td><td>0        </td><td>0        </td><td>0        </td><td>0        </td><td>0        </td><td>0.0000000</td><td>0        </td><td>0        </td><td>0        </td><td>0        </td></tr>\n",
       "\t<tr><th scope=row>4</th><td>0        </td><td>0        </td><td>0        </td><td>0        </td><td>0        </td><td>0        </td><td>0        </td><td>0        </td><td>0        </td><td>0        </td><td>...      </td><td>0        </td><td>0        </td><td>0        </td><td>0        </td><td>0        </td><td>0.5314126</td><td>0        </td><td>0        </td><td>0        </td><td>0        </td></tr>\n",
       "\t<tr><th scope=row>5</th><td>0        </td><td>0        </td><td>0        </td><td>0        </td><td>0        </td><td>0        </td><td>0        </td><td>0        </td><td>0        </td><td>0        </td><td>...      </td><td>0        </td><td>0        </td><td>0        </td><td>0        </td><td>0        </td><td>0.0000000</td><td>0        </td><td>0        </td><td>0        </td><td>0        </td></tr>\n",
       "</tbody>\n",
       "</table>\n"
      ],
      "text/latex": [
       "\\begin{tabular}{r|lllllllllllllllllllllllllllllllllllllllllllllllllllllllllllllllllllllllllllllllllllllllllllllllllllllllllllllllllllllllll}\n",
       "  & aberturar & agenciar & alterar & antecipacao & antecipar & atender & automatico & bancar & bloquear & bndes & ... & tipo & tirar & titular & usar & utilizar & valor & vencer & ver & verificar & vidar\\\\\n",
       "\\hline\n",
       "\t1 & 0         & 0         & 0         & 0         & 0         & 0         & 0         & 0         & 0         & 0         & ...       & 0         & 0         & 0         & 0         & 0         & 0.0000000 & 0         & 0         & 0         & 0        \\\\\n",
       "\t2 & 0         & 0         & 0         & 0         & 0         & 0         & 0         & 0         & 0         & 0         & ...       & 0         & 0         & 0         & 0         & 0         & 0.0000000 & 0         & 0         & 0         & 0        \\\\\n",
       "\t3 & 0         & 0         & 0         & 0         & 0         & 0         & 0         & 0         & 0         & 0         & ...       & 0         & 0         & 0         & 0         & 0         & 0.0000000 & 0         & 0         & 0         & 0        \\\\\n",
       "\t4 & 0         & 0         & 0         & 0         & 0         & 0         & 0         & 0         & 0         & 0         & ...       & 0         & 0         & 0         & 0         & 0         & 0.5314126 & 0         & 0         & 0         & 0        \\\\\n",
       "\t5 & 0         & 0         & 0         & 0         & 0         & 0         & 0         & 0         & 0         & 0         & ...       & 0         & 0         & 0         & 0         & 0         & 0.0000000 & 0         & 0         & 0         & 0        \\\\\n",
       "\\end{tabular}\n"
      ],
      "text/markdown": [
       "\n",
       "| <!--/--> | aberturar | agenciar | alterar | antecipacao | antecipar | atender | automatico | bancar | bloquear | bndes | ... | tipo | tirar | titular | usar | utilizar | valor | vencer | ver | verificar | vidar | \n",
       "|---|---|---|---|---|\n",
       "| 1 | 0         | 0         | 0         | 0         | 0         | 0         | 0         | 0         | 0         | 0         | ...       | 0         | 0         | 0         | 0         | 0         | 0.0000000 | 0         | 0         | 0         | 0         | \n",
       "| 2 | 0         | 0         | 0         | 0         | 0         | 0         | 0         | 0         | 0         | 0         | ...       | 0         | 0         | 0         | 0         | 0         | 0.0000000 | 0         | 0         | 0         | 0         | \n",
       "| 3 | 0         | 0         | 0         | 0         | 0         | 0         | 0         | 0         | 0         | 0         | ...       | 0         | 0         | 0         | 0         | 0         | 0.0000000 | 0         | 0         | 0         | 0         | \n",
       "| 4 | 0         | 0         | 0         | 0         | 0         | 0         | 0         | 0         | 0         | 0         | ...       | 0         | 0         | 0         | 0         | 0         | 0.5314126 | 0         | 0         | 0         | 0         | \n",
       "| 5 | 0         | 0         | 0         | 0         | 0         | 0         | 0         | 0         | 0         | 0         | ...       | 0         | 0         | 0         | 0         | 0         | 0.0000000 | 0         | 0         | 0         | 0         | \n",
       "\n",
       "\n"
      ],
      "text/plain": [
       "  aberturar agenciar alterar antecipacao antecipar atender automatico bancar\n",
       "1 0         0        0       0           0         0       0          0     \n",
       "2 0         0        0       0           0         0       0          0     \n",
       "3 0         0        0       0           0         0       0          0     \n",
       "4 0         0        0       0           0         0       0          0     \n",
       "5 0         0        0       0           0         0       0          0     \n",
       "  bloquear bndes ... tipo tirar titular usar utilizar valor     vencer ver\n",
       "1 0        0     ... 0    0     0       0    0        0.0000000 0      0  \n",
       "2 0        0     ... 0    0     0       0    0        0.0000000 0      0  \n",
       "3 0        0     ... 0    0     0       0    0        0.0000000 0      0  \n",
       "4 0        0     ... 0    0     0       0    0        0.5314126 0      0  \n",
       "5 0        0     ... 0    0     0       0    0        0.0000000 0      0  \n",
       "  verificar vidar\n",
       "1 0         0    \n",
       "2 0         0    \n",
       "3 0         0    \n",
       "4 0         0    \n",
       "5 0         0    "
      ]
     },
     "metadata": {},
     "output_type": "display_data"
    }
   ],
   "source": [
    "dtm <- removeSparseTerms(dtm, sparsity)\n",
    "\n",
    "\n",
    "#Matrix with tokens to build the word cloud \n",
    "mtx <- dtm\n",
    "mtx <- as.matrix(mtx)\n",
    "\n",
    "#Matrix with each line representing one document and tokens in columns\n",
    "dtm <- t(dtm)\n",
    "dtm <- as.matrix(dtm)\n",
    "# normalizing lines\n",
    "norm_vec <- function(x) sqrt(sum(x^2))\n",
    "norms <- apply(dtm, 1, norm_vec)\n",
    "dtm <- dtm/norms\n",
    "    \n",
    "head(dtm, 5)"
   ]
  },
  {
   "cell_type": "markdown",
   "metadata": {},
   "source": [
    "## Section 3: Wordcloud"
   ]
  },
  {
   "cell_type": "code",
   "execution_count": 68,
   "metadata": {
    "scrolled": false
   },
   "outputs": [
    {
     "data": {
      "text/html": [
       "<table>\n",
       "<thead><tr><th></th><th scope=col>word</th><th scope=col>freq</th></tr></thead>\n",
       "<tbody>\n",
       "\t<tr><th scope=row>qual</th><td>qual    </td><td>5229.370</td></tr>\n",
       "\t<tr><th scope=row>contar</th><td>contar  </td><td>5198.051</td></tr>\n",
       "\t<tr><th scope=row>cliente</th><td>cliente </td><td>5138.841</td></tr>\n",
       "\t<tr><th scope=row>cartao</th><td>cartao  </td><td>4745.320</td></tr>\n",
       "\t<tr><th scope=row>ceder</th><td>ceder   </td><td>4719.650</td></tr>\n",
       "\t<tr><th scope=row>creditar</th><td>creditar</td><td>4541.568</td></tr>\n",
       "\t<tr><th scope=row>poder</th><td>poder   </td><td>4373.314</td></tr>\n",
       "\t<tr><th scope=row>checar</th><td>checar  </td><td>3781.845</td></tr>\n",
       "\t<tr><th scope=row>pessoa</th><td>pessoa  </td><td>3627.599</td></tr>\n",
       "\t<tr><th scope=row>formar</th><td>formar  </td><td>3434.431</td></tr>\n",
       "</tbody>\n",
       "</table>\n"
      ],
      "text/latex": [
       "\\begin{tabular}{r|ll}\n",
       "  & word & freq\\\\\n",
       "\\hline\n",
       "\tqual & qual     & 5229.370\\\\\n",
       "\tcontar & contar   & 5198.051\\\\\n",
       "\tcliente & cliente  & 5138.841\\\\\n",
       "\tcartao & cartao   & 4745.320\\\\\n",
       "\tceder & ceder    & 4719.650\\\\\n",
       "\tcreditar & creditar & 4541.568\\\\\n",
       "\tpoder & poder    & 4373.314\\\\\n",
       "\tchecar & checar   & 3781.845\\\\\n",
       "\tpessoa & pessoa   & 3627.599\\\\\n",
       "\tformar & formar   & 3434.431\\\\\n",
       "\\end{tabular}\n"
      ],
      "text/markdown": [
       "\n",
       "| <!--/--> | word | freq | \n",
       "|---|---|---|---|---|---|---|---|---|---|\n",
       "| qual | qual     | 5229.370 | \n",
       "| contar | contar   | 5198.051 | \n",
       "| cliente | cliente  | 5138.841 | \n",
       "| cartao | cartao   | 4745.320 | \n",
       "| ceder | ceder    | 4719.650 | \n",
       "| creditar | creditar | 4541.568 | \n",
       "| poder | poder    | 4373.314 | \n",
       "| checar | checar   | 3781.845 | \n",
       "| pessoa | pessoa   | 3627.599 | \n",
       "| formar | formar   | 3434.431 | \n",
       "\n",
       "\n"
      ],
      "text/plain": [
       "         word     freq    \n",
       "qual     qual     5229.370\n",
       "contar   contar   5198.051\n",
       "cliente  cliente  5138.841\n",
       "cartao   cartao   4745.320\n",
       "ceder    ceder    4719.650\n",
       "creditar creditar 4541.568\n",
       "poder    poder    4373.314\n",
       "checar   checar   3781.845\n",
       "pessoa   pessoa   3627.599\n",
       "formar   formar   3434.431"
      ]
     },
     "metadata": {},
     "output_type": "display_data"
    }
   ],
   "source": [
    "v <- sort(rowSums(mtx),decreasing=TRUE)\n",
    "d <- data.frame(word = names(v),freq=v)\n",
    "head(d, 10)"
   ]
  },
  {
   "cell_type": "code",
   "execution_count": 69,
   "metadata": {},
   "outputs": [
    {
     "data": {
      "image/png": "[encoded data removed]",
      "text/plain": [
       "plot without title"
      ]
     },
     "metadata": {},
     "output_type": "display_data"
    }
   ],
   "source": [
    "set.seed(1234)\n",
    "wordcloud(words = d$word, freq = d$freq, min.freq = 1,\n",
    "          max.words=50, random.order=FALSE, rot.per=0.35, \n",
    "          colors=brewer.pal(12, \"Set3\"))"
   ]
  },
  {
   "cell_type": "markdown",
   "metadata": {},
   "source": [
    "## Section 4: Clustering using SVM considering  product grups\n",
    "\n",
    "    * We will use this column \"GRUPO\" to train the dataset using 70% data. \n",
    "    \n",
    "    * The rest will be classified and get the accuracy and we'll try to identify which products are conflicting the most.\n"
   ]
  },
  {
   "cell_type": "code",
   "execution_count": 70,
   "metadata": {},
   "outputs": [],
   "source": [
    "# preparing data and removing duplicated rows\n",
    "X_RF <- dtm\n",
    "X_RF <- cbind.data.frame(GRUPO=df$GRUPO,X_RF)\n",
    "X_RF <- cbind.data.frame(Canonica=df$Canonica,X_RF)\n",
    "X_RF <- na.exclude(X_RF)\n",
    "X_RF <- na.omit(X_RF)"
   ]
  },
  {
   "cell_type": "code",
   "execution_count": 71,
   "metadata": {},
   "outputs": [],
   "source": [
    "#cross-validation(70/30)\n",
    "train_X <- sample_frac(X_RF, 0.7)\n",
    "ind_train <- rownames(train_X)%>%as.numeric()\n",
    "test_X <- X_RF[-ind_train,]\n",
    "test_y <- test_X$GRUPO\n",
    "#levels(test_X$GRUPO) <- unique(X_RF$GRUPO)\n",
    "test_y <- as.matrix(test_y) %>% as.data.frame()\n",
    "colnames(test_y) <- 'GRUPO'\n",
    "test_canonica <- test_X$Canonica\n",
    "test_canonica  <- as.matrix(test_canonica) %>% as.data.frame()\n",
    "colnames(test_canonica) <- 'Canonica'\n",
    "test_X <- test_X[,-1:-2]\n",
    "train_X <- train_X[, -1]"
   ]
  },
  {
   "cell_type": "code",
   "execution_count": 72,
   "metadata": {},
   "outputs": [
    {
     "name": "stdout",
     "output_type": "stream",
     "text": [
      "[1] \"Acurácia SVM = 0.786242925555072\"\n"
     ]
    }
   ],
   "source": [
    "#training model and calculating accuracy\n",
    "SVM_model <- svm(GRUPO ~ ., data = train_X, na.action =na.omit, scale = TRUE)\n",
    "SVM_result <- predict(SVM_model, test_X)\n",
    "SVM_result <- as.matrix(SVM_result) %>% as.data.frame()\n",
    "colnames(SVM_result) <- 'CLUSTER'\n",
    "  \n",
    "acc_svm <- which(test_y==SVM_result)%>%length()/nrow(test_y)\n",
    "print(paste('Acurácia SVM', acc_svm, sep = ' = '))"
   ]
  },
  {
   "cell_type": "code",
   "execution_count": 73,
   "metadata": {
    "collapsed": true
   },
   "outputs": [],
   "source": [
    "test_X<- cbind.data.frame(GRUPO=as.vector(test_y),test_X)\n",
    "test_X<- cbind.data.frame(CLUSTER=as.vector(SVM_result),test_X)\n",
    "test_X<- cbind.data.frame(Canonica=as.vector(test_canonica),test_X)"
   ]
  },
  {
   "cell_type": "code",
   "execution_count": 88,
   "metadata": {},
   "outputs": [
    {
     "data": {
      "image/png": "[encoded data removed]",
      "text/plain": [
       "Plot with title \"Gorups Distribution\""
      ]
     },
     "metadata": {},
     "output_type": "display_data"
    }
   ],
   "source": [
    "#create the bar graphic to comparison of workspace misclassification\n",
    "graph <- table(test_X$CLUSTER, test_X$GRUPO)\n",
    "barplot(graph, main=\"Gorups Distribution\", cex.names=0.45,\n",
    "        col = c(\"cyan\", \"lightblue\",\"red\", \"green\", \"yellow\", \"orange\", \"pink\", \n",
    "                \"coral\", \"brown\",\"grey\", \"black\", \"darkviolet\",\n",
    "                \"dimgrey\", \"darkblue\",\"violetred\", \"white\", \"darkgreen\"), xlab=\"Groups\") \n",
    "legend(\"topright\", legend = rownames(graph), title=\"Groups\",\n",
    "       fill=c(\"cyan\", \"lightblue\",\"red\", \"green\", \"yellow\", \"orange\", \"pink\", \n",
    "                \"coral\", \"brown\",\"grey\", \"black\", \"darkviolet\",\n",
    "                \"dimgrey\", \"darkblue\",\"violetred\", \"white\", \"darkgreen\"), ncol = 2, cex = 0.85)"
   ]
  },
  {
   "cell_type": "code",
   "execution_count": 59,
   "metadata": {
    "scrolled": true
   },
   "outputs": [
    {
     "data": {
      "text/html": [
       "<table>\n",
       "<thead><tr><th scope=col>ID</th><th scope=col>CLUSTER</th><th scope=col>GRUPO.x</th><th scope=col>Intencao.x</th><th scope=col>SUBGRUPO.x</th><th scope=col>GRUPO_SUBGRUPO.x</th><th scope=col>Canonica</th></tr></thead>\n",
       "<tbody>\n",
       "\t<tr><td>1000                                                               </td><td>EmprestimosPJ                                                      </td><td>Cadastro                                                           </td><td>ContaCorrente_Cadastro_PFePJ_Imprimir_FichaCadastral               </td><td>Cadastro                                                           </td><td>ContaCorrente_Cadastro                                             </td><td>Posso imprimir ficha cadastral vencida?                            </td></tr>\n",
       "\t<tr><td>10001                                                              </td><td>Financiamentos                                                     </td><td>Financiamentos                                                     </td><td>Financiamentos_CDC_PF_Saber_Regra_Substituicao_MaquinasEquipamentos</td><td>CDC                                                                </td><td>Financiamentos_CDC                                                 </td><td>Cliente quer trocar sua máquina do contrato de CDC                 </td></tr>\n",
       "\t<tr><td>10003                                                              </td><td>Financiamentos                                                     </td><td>Financiamentos                                                     </td><td>Financiamentos_CDC_PF_Saber_Bens_Permitidos                        </td><td>CDC                                                                </td><td>Financiamentos_CDC                                                 </td><td>Quais os bens financiáves no CDC?                                  </td></tr>\n",
       "</tbody>\n",
       "</table>\n"
      ],
      "text/latex": [
       "\\begin{tabular}{r|lllllll}\n",
       " ID & CLUSTER & GRUPO.x & Intencao.x & SUBGRUPO.x & GRUPO\\_SUBGRUPO.x & Canonica\\\\\n",
       "\\hline\n",
       "\t 1000                                                                        & EmprestimosPJ                                                               & Cadastro                                                                    & ContaCorrente\\_Cadastro\\_PFePJ\\_Imprimir\\_FichaCadastral                & Cadastro                                                                    & ContaCorrente\\_Cadastro                                                    & Posso imprimir ficha cadastral vencida?                                    \\\\\n",
       "\t 10001                                                                           & Financiamentos                                                                  & Financiamentos                                                                  & Financiamentos\\_CDC\\_PF\\_Saber\\_Regra\\_Substituicao\\_MaquinasEquipamentos & CDC                                                                             & Financiamentos\\_CDC                                                            & Cliente quer trocar sua máquina do contrato de CDC                             \\\\\n",
       "\t 10003                                                                         & Financiamentos                                                                & Financiamentos                                                                & Financiamentos\\_CDC\\_PF\\_Saber\\_Bens\\_Permitidos                         & CDC                                                                           & Financiamentos\\_CDC                                                          & Quais os bens financiáves no CDC?                                            \\\\\n",
       "\\end{tabular}\n"
      ],
      "text/markdown": [
       "\n",
       "ID | CLUSTER | GRUPO.x | Intencao.x | SUBGRUPO.x | GRUPO_SUBGRUPO.x | Canonica | \n",
       "|---|---|---|\n",
       "| 1000                                                                | EmprestimosPJ                                                       | Cadastro                                                            | ContaCorrente_Cadastro_PFePJ_Imprimir_FichaCadastral                | Cadastro                                                            | ContaCorrente_Cadastro                                              | Posso imprimir ficha cadastral vencida?                             | \n",
       "| 10001                                                               | Financiamentos                                                      | Financiamentos                                                      | Financiamentos_CDC_PF_Saber_Regra_Substituicao_MaquinasEquipamentos | CDC                                                                 | Financiamentos_CDC                                                  | Cliente quer trocar sua máquina do contrato de CDC                  | \n",
       "| 10003                                                               | Financiamentos                                                      | Financiamentos                                                      | Financiamentos_CDC_PF_Saber_Bens_Permitidos                         | CDC                                                                 | Financiamentos_CDC                                                  | Quais os bens financiáves no CDC?                                   | \n",
       "\n",
       "\n"
      ],
      "text/plain": [
       "  ID    CLUSTER        GRUPO.x       \n",
       "1 1000  EmprestimosPJ  Cadastro      \n",
       "2 10001 Financiamentos Financiamentos\n",
       "3 10003 Financiamentos Financiamentos\n",
       "  Intencao.x                                                         \n",
       "1 ContaCorrente_Cadastro_PFePJ_Imprimir_FichaCadastral               \n",
       "2 Financiamentos_CDC_PF_Saber_Regra_Substituicao_MaquinasEquipamentos\n",
       "3 Financiamentos_CDC_PF_Saber_Bens_Permitidos                        \n",
       "  SUBGRUPO.x GRUPO_SUBGRUPO.x      \n",
       "1 Cadastro   ContaCorrente_Cadastro\n",
       "2 CDC        Financiamentos_CDC    \n",
       "3 CDC        Financiamentos_CDC    \n",
       "  Canonica                                          \n",
       "1 Posso imprimir ficha cadastral vencida?           \n",
       "2 Cliente quer trocar sua máquina do contrato de CDC\n",
       "3 Quais os bens financiáves no CDC?                 "
      ]
     },
     "metadata": {},
     "output_type": "display_data"
    }
   ],
   "source": [
    "final_X <- test_X[, 1:3]\n",
    "final_X <- merge(final_X, df, by = 'Canonica')\n",
    "final_X <- final_X[,-1]\n",
    "final_X <- merge(final_X, df_original, by = 'ID')\n",
    "final_X <- final_X[,-5]\n",
    "final_X <- final_X[,-8:-11]\n",
    "\n",
    "head(final_X, 3)"
   ]
  },
  {
   "cell_type": "code",
   "execution_count": 58,
   "metadata": {
    "collapsed": true
   },
   "outputs": [],
   "source": [
    "#Export Final Model\n",
    "write.csv2(x = final_X, file = final_file, row.names = FALSE)"
   ]
  },
  {
   "cell_type": "markdown",
   "metadata": {},
   "source": [
    "Final observations:\n",
    "\n",
    "* You can get to the conclusion that groups \"Cap\" and \"Pre\" are the most homogeneous (once almost everything was classified correctly inside those groups). For the rest, we could try to:\n",
    "\n",
    "    1) identify if there are any specific subgroups that are being misclassified and understand why that is happening (maybe try to work on the examples dataset to make them better).\n",
    "    \n",
    "    2) try to unify groups that are mixed to get a better classification assertiveness on the router workspace."
   ]
  }
 ],
 "metadata": {
  "kernelspec": {
   "display_name": "R",
   "language": "R",
   "name": "ir"
  },
  "language_info": {
   "codemirror_mode": "r",
   "file_extension": ".r",
   "mimetype": "text/x-r-source",
   "name": "R",
   "pygments_lexer": "r",
   "version": "3.4.2"
  }
 },
 "nbformat": 4,
 "nbformat_minor": 2
}
